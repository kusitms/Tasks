{
 "cells": [
  {
   "cell_type": "code",
   "execution_count": 1,
   "metadata": {},
   "outputs": [
    {
     "name": "stdout",
     "output_type": "stream",
     "text": [
      "Unnamed: 0     0\n",
      "Task1         26\n",
      "Task2          2\n",
      "Task3         17\n",
      "Task4         11\n",
      "              ..\n",
      "Task56        21\n",
      "Task57         9\n",
      "Task58        22\n",
      "Task59         8\n",
      "Task60        20\n",
      "Name: 0, Length: 61, dtype: int64\n"
     ]
    }
   ],
   "source": [
    "from torch.utils import data\n",
    "import numpy as np\n",
    "import pandas as pd\n",
    "\n",
    "class MyDataset(data.Dataset):\n",
    "    def __init__(self):\n",
    "        super().__init__()\n",
    "        self.df = pd.read_csv(\"classscore.csv\")\n",
    "        \n",
    "    def __len__(self):\n",
    "        return self.df.shape[0]\n",
    "        \n",
    "    def __getitem__(self, index):\n",
    "        item = self.df.loc[index]\n",
    "        return item\n",
    "\n",
    "class MyDatasetAdvanced(data.Dataset):\n",
    "    def __init__(self, mode):\n",
    "        super().__init__()\n",
    "        self.df = pd.read_csv(\"classscore.csv\")\n",
    "        \n",
    "        if mode == 'train':\n",
    "            self.df2 = self.df.sample(frac=0.7)\n",
    "            \n",
    "        elif mode == 'val':\n",
    "            self.df2 = self.df.sample(frac=0.2)\n",
    "            \n",
    "        elif mode == 'test':\n",
    "            self.df2 = self.df.sample(frac=0.1)\n",
    "        \n",
    "        else:\n",
    "            print(\"다시\")\n",
    "            \n",
    "    def __len__(self):\n",
    "        return self.df2.shape[0] \n",
    "    \n",
    "    def __getitem__(self, index):\n",
    "        item = self.df2.loc[index]\n",
    "        return item\n",
    "\n",
    "    \n",
    "    \n",
    "if __name__ == '__main__':\n",
    "    mydataset = MyDataset()\n",
    "    print(mydataset[0])\n",
    "    advanced_dataset_train = MyDatasetAdvanced(mode='train')\n",
    "    advanced_dataset_val = MyDatasetAdvanced(mode='val')\n",
    "    advanced_dataset_test = MyDatasetAdvanced(mode='test')\n"
   ]
  },
  {
   "cell_type": "code",
   "execution_count": null,
   "metadata": {},
   "outputs": [],
   "source": []
  }
 ],
 "metadata": {
  "kernelspec": {
   "display_name": "Python 3",
   "language": "python",
   "name": "python3"
  },
  "language_info": {
   "codemirror_mode": {
    "name": "ipython",
    "version": 3
   },
   "file_extension": ".py",
   "mimetype": "text/x-python",
   "name": "python",
   "nbconvert_exporter": "python",
   "pygments_lexer": "ipython3",
   "version": "3.7.4"
  }
 },
 "nbformat": 4,
 "nbformat_minor": 2
}
